{
  "nbformat": 4,
  "nbformat_minor": 0,
  "metadata": {
    "colab": {
      "provenance": [],
      "authorship_tag": "ABX9TyO3la5C05ELHJliA22M2asY",
      "include_colab_link": true
    },
    "kernelspec": {
      "name": "python3",
      "display_name": "Python 3"
    },
    "language_info": {
      "name": "python"
    }
  },
  "cells": [
    {
      "cell_type": "markdown",
      "metadata": {
        "id": "view-in-github",
        "colab_type": "text"
      },
      "source": [
        "<a href=\"https://colab.research.google.com/github/rat-nick/ml-lab/blob/main/Praktican_deo.ipynb\" target=\"_parent\"><img src=\"https://colab.research.google.com/assets/colab-badge.svg\" alt=\"Open In Colab\"/></a>"
      ]
    },
    {
      "cell_type": "markdown",
      "source": [
        "# Ucitavanje i preprocesiranje podataka\n",
        "\n",
        "Skinuti skup podataka https://archive.ics.uci.edu/dataset/20/census+income\n",
        "\n",
        "Obaviti ciscenje i preprocesiranje podataka za knn model.\n",
        "\n",
        "Objasniti sta je to korelaciona matrica i koja je njena uloga.\n",
        "\n",
        "Koji problem treba da resi nas model?"
      ],
      "metadata": {
        "id": "NFW_KnusiKvN"
      }
    },
    {
      "cell_type": "markdown",
      "source": [
        "# Obucavanje modela\n",
        "\n",
        "Obuciti knn model i naci optimalne hiperparametre."
      ],
      "metadata": {
        "id": "wqBvVeVpjHdq"
      }
    },
    {
      "cell_type": "markdown",
      "source": [
        "# Evaluacija modela\n",
        "\n",
        "Proceniti valjanost modela i protumaciti vrednost metrika."
      ],
      "metadata": {
        "id": "C4OHKQhCkIcd"
      }
    }
  ]
}