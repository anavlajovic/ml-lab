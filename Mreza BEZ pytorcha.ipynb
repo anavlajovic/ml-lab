{
  "nbformat": 4,
  "nbformat_minor": 0,
  "metadata": {
    "colab": {
      "provenance": [],
      "include_colab_link": true
    },
    "kernelspec": {
      "name": "python3",
      "display_name": "Python 3"
    },
    "language_info": {
      "name": "python"
    }
  },
  "cells": [
    {
      "cell_type": "markdown",
      "metadata": {
        "id": "view-in-github",
        "colab_type": "text"
      },
      "source": [
        "<a href=\"https://colab.research.google.com/github/anavlajovic/ml-lab/blob/main/Mreza%20BEZ%20pytorcha.ipynb\" target=\"_parent\"><img src=\"https://colab.research.google.com/assets/colab-badge.svg\" alt=\"Open In Colab\"/></a>"
      ]
    },
    {
      "cell_type": "code",
      "execution_count": 1,
      "metadata": {
        "id": "W_WHYuyvxMU0"
      },
      "outputs": [],
      "source": [
        "import numpy as np\n",
        "import pandas as pd\n",
        "from matplotlib import pyplot as plt\n",
        "from time import sleep\n",
        "\n",
        "d = np.array(pd.read_csv('mnist_train.csv'))"
      ]
    },
    {
      "cell_type": "code",
      "source": [
        "\n",
        "m, n = d.shape\n",
        "np.random.shuffle(d) # shuffle before splitting into dev and training sets\n",
        "\n",
        "train = d[1000:m].T\n",
        "Y = train[0]\n",
        "X = train[1:n]\n",
        "X = X / 255\n",
        "_,mt = X.shape\n",
        "\n",
        "def init():\n",
        "    global W1, b1, W2, b2\n",
        "    W1 = np.random.rand(10, 784) - 0.5\n",
        "    b1 = np.random.rand(10, 1) - 0.5\n",
        "    W2 = np.random.rand(10, 10) - 0.5\n",
        "    b2 = np.random.rand(10, 1) - 0.5\n",
        "\n",
        "def sm(Z): # softmax\n",
        "    return np.exp(Z) / sum(np.exp(Z))\n",
        "\n",
        "def forward():\n",
        "    global Z1, A1, Z2, A2\n",
        "    Z1 = W1.dot(X) + b1\n",
        "    A1 = np.maximum(Z1, 0)  # Relu\n",
        "    Z2 = W2.dot(A1) + b2\n",
        "    A2 = sm(Z2)\n",
        "\n",
        "def oh(): #onehot\n",
        "    ohy = np.zeros((Y.size, Y.max() + 1))\n",
        "    ohy[np.arange(Y.size), Y] = 1\n",
        "    return ohy.T\n",
        "\n",
        "def back():\n",
        "    global dW1, db1, dW2, db2\n",
        "    dZ2 = A2 - oh()\n",
        "    dW2 = dZ2.dot(A1.T) / m\n",
        "    db2 = np.sum(dZ2) / m\n",
        "    dZ1 = W2.T.dot(dZ2) * (Z1>0)\n",
        "    dW1 = dZ1.dot(X.T) / m\n",
        "    db1 = np.sum(dZ1) / m\n",
        "\n",
        "def update(lr):\n",
        "    global W1, b1, W2, b2\n",
        "    W1 = W1 - lr * dW1\n",
        "    b1 = b1 - lr * db1\n",
        "    W2 = W2 - lr * dW2\n",
        "    b2 = b2 - lr * db2\n",
        "\n",
        "def accuracy(pred):\n",
        "    print(pred, Y)\n",
        "    return np.sum(pred == Y) / Y.size\n",
        "\n",
        "def gd(lr, iters):\n",
        "    init()\n",
        "    for i in range(iters):\n",
        "        forward()\n",
        "        back()\n",
        "        update(lr)\n",
        "        if i % 25 == 0:\n",
        "            print(i, accuracy(np.argmax(A2, 0)))"
      ],
      "metadata": {
        "id": "nnbQZtMAxpvy"
      },
      "execution_count": 2,
      "outputs": []
    },
    {
      "cell_type": "code",
      "source": [
        "gd(0.10, 500)"
      ],
      "metadata": {
        "colab": {
          "base_uri": "https://localhost:8080/"
        },
        "id": "XdhqB_Ij2lML",
        "outputId": "1f98b4f4-6640-4a25-aad0-e2da2aca893a"
      },
      "execution_count": null,
      "outputs": [
        {
          "output_type": "stream",
          "name": "stdout",
          "text": [
            "[5 8 8 ... 5 1 5] [6 6 2 ... 0 2 1]\n",
            "0 0.12442760145270804\n",
            "[0 8 6 ... 6 2 1] [6 6 2 ... 0 2 1]\n",
            "25 0.2965945576082952\n",
            "[3 8 6 ... 5 2 1] [6 6 2 ... 0 2 1]\n",
            "50 0.4581293752302753\n",
            "[9 8 6 ... 5 2 1] [6 6 2 ... 0 2 1]\n",
            "75 0.5549765777146165\n",
            "[9 8 0 ... 0 2 1] [6 6 2 ... 0 2 1]\n",
            "100 0.6247170903731776\n",
            "[9 8 0 ... 0 2 1] [6 6 2 ... 0 2 1]\n",
            "125 0.6747723564398126\n",
            "[9 8 0 ... 0 2 1] [6 6 2 ... 0 2 1]\n",
            "150 0.708668877309332\n",
            "[4 6 0 ... 0 2 1] [6 6 2 ... 0 2 1]\n",
            "175 0.7334596557713564\n",
            "[4 6 0 ... 0 2 1] [6 6 2 ... 0 2 1]\n",
            "200 0.7517764092846992\n",
            "[4 6 2 ... 0 2 1] [6 6 2 ... 0 2 1]\n",
            "225 0.7667245644507605\n",
            "[4 6 2 ... 0 2 1] [6 6 2 ... 0 2 1]\n",
            "250 0.7793041739038897\n",
            "[4 6 2 ... 0 2 1] [6 6 2 ... 0 2 1]\n",
            "275 0.7900942154850256\n"
          ]
        }
      ]
    },
    {
      "cell_type": "code",
      "source": [],
      "metadata": {
        "id": "CfyOzRu82QxE"
      },
      "execution_count": null,
      "outputs": []
    }
  ]
}