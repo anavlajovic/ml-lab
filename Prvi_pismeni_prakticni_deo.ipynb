{
  "nbformat": 4,
  "nbformat_minor": 0,
  "metadata": {
    "colab": {
      "provenance": [],
      "toc_visible": true,
      "authorship_tag": "ABX9TyMZQXPLCmCyo4c9K1QjiJUT",
      "include_colab_link": true
    },
    "kernelspec": {
      "name": "python3",
      "display_name": "Python 3"
    },
    "language_info": {
      "name": "python"
    }
  },
  "cells": [
    {
      "cell_type": "markdown",
      "metadata": {
        "id": "view-in-github",
        "colab_type": "text"
      },
      "source": [
        "<a href=\"https://colab.research.google.com/github/rat-nick/ml-lab/blob/main/Prvi_pismeni_prakticni_deo.ipynb\" target=\"_parent\"><img src=\"https://colab.research.google.com/assets/colab-badge.svg\" alt=\"Open In Colab\"/></a>"
      ]
    },
    {
      "cell_type": "markdown",
      "source": [
        "# Prakticni deo\n",
        "\n",
        "Napraviti linearni model koji ce modelovati ciljanu promenjivu."
      ],
      "metadata": {
        "id": "18Sl4mJCxsI1"
      }
    },
    {
      "cell_type": "markdown",
      "source": [
        "## Ucitavanje podataka\n",
        "\n",
        "Koliko ima slucajeva u skupu podataka?\n",
        "Koliko ima nezavisnih promenjivih u skupu podataka?"
      ],
      "metadata": {
        "id": "hk3RPyfTxzML"
      }
    },
    {
      "cell_type": "markdown",
      "source": [
        "## Preprocesiranje podataka\n",
        "\n",
        "Da li postoje nedostajuce vrednosti?\n",
        "Koje sve promenjive imaju nedostajuce vrednosti?\n",
        "Kako cete resiti nedostajuce vrednosti? Zbog cega?\n",
        "Nakon preprocesiranja, koliko imamo nezavisnih promenjivih?\n",
        "Kog su tipa nezavisne promenjive?\n"
      ],
      "metadata": {
        "id": "Ch4P4ZRqx3HT"
      }
    },
    {
      "cell_type": "markdown",
      "source": [
        "## Obucavanje modela\n",
        "\n",
        "Kako definisete model?\n",
        "Sta su ulazni podaci u model a sta izlazni?\n",
        "Koju metriku koristite da ocenite valjanost modela? Zasto?\n",
        "Koju metodu obuke koristi ovaj model?\n",
        "Koliko parametara ima ovaj model?"
      ],
      "metadata": {
        "id": "WO-7UW0iyY_H"
      }
    },
    {
      "cell_type": "markdown",
      "source": [
        "## Evaluacija modela\n",
        "\n",
        "Kakvi su rezultati modela?\n",
        "Da li je model bolji od modela koji nasumicno vraca izlaz?\n"
      ],
      "metadata": {
        "id": "A2Qo-fQYytoc"
      }
    },
    {
      "cell_type": "code",
      "source": [],
      "metadata": {
        "id": "tE3T2lLXy4gn"
      },
      "execution_count": null,
      "outputs": []
    }
  ]
}